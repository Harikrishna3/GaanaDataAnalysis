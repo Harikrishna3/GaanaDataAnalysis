{
  "nbformat": 4,
  "nbformat_minor": 0,
  "metadata": {
    "colab": {
      "name": "Untitled0.ipynb",
      "provenance": [],
      "authorship_tag": "ABX9TyMraVzoKGKS8APnwnwvVsC9",
      "include_colab_link": true
    },
    "kernelspec": {
      "name": "python3",
      "display_name": "Python 3"
    },
    "language_info": {
      "name": "python"
    }
  },
  "cells": [
    {
      "cell_type": "markdown",
      "metadata": {
        "id": "view-in-github",
        "colab_type": "text"
      },
      "source": [
        "<a href=\"https://colab.research.google.com/github/Harikrishna3/GaanaDataAnalysis/blob/main/Untitled0.ipynb\" target=\"_parent\"><img src=\"https://colab.research.google.com/assets/colab-badge.svg\" alt=\"Open In Colab\"/></a>"
      ]
    },
    {
      "cell_type": "code",
      "execution_count": null,
      "metadata": {
        "id": "Jp_gXy3hceLO",
        "colab": {
          "base_uri": "https://localhost:8080/"
        },
        "outputId": "02a5ef9d-ae85-4a65-f656-3b9ba67cd0fa"
      },
      "outputs": [
        {
          "output_type": "stream",
          "name": "stdout",
          "text": [
            "Cloning into 'Gaana-Data-Analysis'...\n",
            "remote: Enumerating objects: 26, done.\u001b[K\n",
            "remote: Counting objects: 100% (26/26), done.\u001b[K\n",
            "remote: Compressing objects: 100% (26/26), done.\u001b[K\n",
            "remote: Total 26 (delta 8), reused 0 (delta 0), pack-reused 0\u001b[K\n",
            "Unpacking objects: 100% (26/26), done.\n"
          ]
        }
      ],
      "source": [
        "!git clone https://github.com/AshishJangra27/Gaana-Data-Analysis\n"
      ]
    },
    {
      "cell_type": "code",
      "source": [
        "import pandas as pd\n",
        "from tqdm import tqdm\n",
        "df = pd.read_csv('Gaana-Data-Analysis/songs.csv')"
      ],
      "metadata": {
        "id": "NTvE3IOk7LM7"
      },
      "execution_count": null,
      "outputs": []
    },
    {
      "cell_type": "code",
      "source": [
        "df.head()"
      ],
      "metadata": {
        "colab": {
          "base_uri": "https://localhost:8080/",
          "height": 206
        },
        "id": "xvYd-VFi7z1o",
        "outputId": "34b8c6b7-9823-40a6-cc8f-3e9079dcdde5"
      },
      "execution_count": null,
      "outputs": [
        {
          "output_type": "execute_result",
          "data": {
            "text/plain": [
              "                                      name                     singer  \\\n",
              "0                    Dil - E - Nadan Tujhe  Chitra Singh|Jagjit Singh   \n",
              "1        Agar Hum Kahen Aur Woh Muskara De  Chitra Singh|Jagjit Singh   \n",
              "2                            Unke Dekhe Se               Jagjit Singh   \n",
              "3  Yeh Na Thi Hamari Qismat - Chitra Singh               Chitra Singh   \n",
              "4                  Hazaron Khwahishen Aisi               Jagjit Singh   \n",
              "\n",
              "                                      singer_id duration  \\\n",
              "0  /artist/chitra-singh|/artist/jagjeet-singh-1    05:00   \n",
              "1  /artist/chitra-singh|/artist/jagjeet-singh-1    06:26   \n",
              "2                       /artist/jagjeet-singh-1    03:41   \n",
              "3                          /artist/chitra-singh    04:26   \n",
              "4                       /artist/jagjeet-singh-1    05:39   \n",
              "\n",
              "                                  link language  \n",
              "0                 /dil-e-nadan-tujhe-3     Urdu  \n",
              "1  /agar-hum-kahen-aur-woh-muskura-den     Urdu  \n",
              "2                       /unke-dekhe-se     Urdu  \n",
              "3          /yeh-na-thi-hamari-qismat-2     Urdu  \n",
              "4           /hazaron-khwahishen-aisi-1     Urdu  "
            ],
            "text/html": [
              "\n",
              "  <div id=\"df-d452a7b2-77f3-4d46-98e5-53b8de3cbb14\">\n",
              "    <div class=\"colab-df-container\">\n",
              "      <div>\n",
              "<style scoped>\n",
              "    .dataframe tbody tr th:only-of-type {\n",
              "        vertical-align: middle;\n",
              "    }\n",
              "\n",
              "    .dataframe tbody tr th {\n",
              "        vertical-align: top;\n",
              "    }\n",
              "\n",
              "    .dataframe thead th {\n",
              "        text-align: right;\n",
              "    }\n",
              "</style>\n",
              "<table border=\"1\" class=\"dataframe\">\n",
              "  <thead>\n",
              "    <tr style=\"text-align: right;\">\n",
              "      <th></th>\n",
              "      <th>name</th>\n",
              "      <th>singer</th>\n",
              "      <th>singer_id</th>\n",
              "      <th>duration</th>\n",
              "      <th>link</th>\n",
              "      <th>language</th>\n",
              "    </tr>\n",
              "  </thead>\n",
              "  <tbody>\n",
              "    <tr>\n",
              "      <th>0</th>\n",
              "      <td>Dil - E - Nadan Tujhe</td>\n",
              "      <td>Chitra Singh|Jagjit Singh</td>\n",
              "      <td>/artist/chitra-singh|/artist/jagjeet-singh-1</td>\n",
              "      <td>05:00</td>\n",
              "      <td>/dil-e-nadan-tujhe-3</td>\n",
              "      <td>Urdu</td>\n",
              "    </tr>\n",
              "    <tr>\n",
              "      <th>1</th>\n",
              "      <td>Agar Hum Kahen Aur Woh Muskara De</td>\n",
              "      <td>Chitra Singh|Jagjit Singh</td>\n",
              "      <td>/artist/chitra-singh|/artist/jagjeet-singh-1</td>\n",
              "      <td>06:26</td>\n",
              "      <td>/agar-hum-kahen-aur-woh-muskura-den</td>\n",
              "      <td>Urdu</td>\n",
              "    </tr>\n",
              "    <tr>\n",
              "      <th>2</th>\n",
              "      <td>Unke Dekhe Se</td>\n",
              "      <td>Jagjit Singh</td>\n",
              "      <td>/artist/jagjeet-singh-1</td>\n",
              "      <td>03:41</td>\n",
              "      <td>/unke-dekhe-se</td>\n",
              "      <td>Urdu</td>\n",
              "    </tr>\n",
              "    <tr>\n",
              "      <th>3</th>\n",
              "      <td>Yeh Na Thi Hamari Qismat - Chitra Singh</td>\n",
              "      <td>Chitra Singh</td>\n",
              "      <td>/artist/chitra-singh</td>\n",
              "      <td>04:26</td>\n",
              "      <td>/yeh-na-thi-hamari-qismat-2</td>\n",
              "      <td>Urdu</td>\n",
              "    </tr>\n",
              "    <tr>\n",
              "      <th>4</th>\n",
              "      <td>Hazaron Khwahishen Aisi</td>\n",
              "      <td>Jagjit Singh</td>\n",
              "      <td>/artist/jagjeet-singh-1</td>\n",
              "      <td>05:39</td>\n",
              "      <td>/hazaron-khwahishen-aisi-1</td>\n",
              "      <td>Urdu</td>\n",
              "    </tr>\n",
              "  </tbody>\n",
              "</table>\n",
              "</div>\n",
              "      <button class=\"colab-df-convert\" onclick=\"convertToInteractive('df-d452a7b2-77f3-4d46-98e5-53b8de3cbb14')\"\n",
              "              title=\"Convert this dataframe to an interactive table.\"\n",
              "              style=\"display:none;\">\n",
              "        \n",
              "  <svg xmlns=\"http://www.w3.org/2000/svg\" height=\"24px\"viewBox=\"0 0 24 24\"\n",
              "       width=\"24px\">\n",
              "    <path d=\"M0 0h24v24H0V0z\" fill=\"none\"/>\n",
              "    <path d=\"M18.56 5.44l.94 2.06.94-2.06 2.06-.94-2.06-.94-.94-2.06-.94 2.06-2.06.94zm-11 1L8.5 8.5l.94-2.06 2.06-.94-2.06-.94L8.5 2.5l-.94 2.06-2.06.94zm10 10l.94 2.06.94-2.06 2.06-.94-2.06-.94-.94-2.06-.94 2.06-2.06.94z\"/><path d=\"M17.41 7.96l-1.37-1.37c-.4-.4-.92-.59-1.43-.59-.52 0-1.04.2-1.43.59L10.3 9.45l-7.72 7.72c-.78.78-.78 2.05 0 2.83L4 21.41c.39.39.9.59 1.41.59.51 0 1.02-.2 1.41-.59l7.78-7.78 2.81-2.81c.8-.78.8-2.07 0-2.86zM5.41 20L4 18.59l7.72-7.72 1.47 1.35L5.41 20z\"/>\n",
              "  </svg>\n",
              "      </button>\n",
              "      \n",
              "  <style>\n",
              "    .colab-df-container {\n",
              "      display:flex;\n",
              "      flex-wrap:wrap;\n",
              "      gap: 12px;\n",
              "    }\n",
              "\n",
              "    .colab-df-convert {\n",
              "      background-color: #E8F0FE;\n",
              "      border: none;\n",
              "      border-radius: 50%;\n",
              "      cursor: pointer;\n",
              "      display: none;\n",
              "      fill: #1967D2;\n",
              "      height: 32px;\n",
              "      padding: 0 0 0 0;\n",
              "      width: 32px;\n",
              "    }\n",
              "\n",
              "    .colab-df-convert:hover {\n",
              "      background-color: #E2EBFA;\n",
              "      box-shadow: 0px 1px 2px rgba(60, 64, 67, 0.3), 0px 1px 3px 1px rgba(60, 64, 67, 0.15);\n",
              "      fill: #174EA6;\n",
              "    }\n",
              "\n",
              "    [theme=dark] .colab-df-convert {\n",
              "      background-color: #3B4455;\n",
              "      fill: #D2E3FC;\n",
              "    }\n",
              "\n",
              "    [theme=dark] .colab-df-convert:hover {\n",
              "      background-color: #434B5C;\n",
              "      box-shadow: 0px 1px 3px 1px rgba(0, 0, 0, 0.15);\n",
              "      filter: drop-shadow(0px 1px 2px rgba(0, 0, 0, 0.3));\n",
              "      fill: #FFFFFF;\n",
              "    }\n",
              "  </style>\n",
              "\n",
              "      <script>\n",
              "        const buttonEl =\n",
              "          document.querySelector('#df-d452a7b2-77f3-4d46-98e5-53b8de3cbb14 button.colab-df-convert');\n",
              "        buttonEl.style.display =\n",
              "          google.colab.kernel.accessAllowed ? 'block' : 'none';\n",
              "\n",
              "        async function convertToInteractive(key) {\n",
              "          const element = document.querySelector('#df-d452a7b2-77f3-4d46-98e5-53b8de3cbb14');\n",
              "          const dataTable =\n",
              "            await google.colab.kernel.invokeFunction('convertToInteractive',\n",
              "                                                     [key], {});\n",
              "          if (!dataTable) return;\n",
              "\n",
              "          const docLinkHtml = 'Like what you see? Visit the ' +\n",
              "            '<a target=\"_blank\" href=https://colab.research.google.com/notebooks/data_table.ipynb>data table notebook</a>'\n",
              "            + ' to learn more about interactive tables.';\n",
              "          element.innerHTML = '';\n",
              "          dataTable['output_type'] = 'display_data';\n",
              "          await google.colab.output.renderOutput(dataTable, element);\n",
              "          const docLink = document.createElement('div');\n",
              "          docLink.innerHTML = docLinkHtml;\n",
              "          element.appendChild(docLink);\n",
              "        }\n",
              "      </script>\n",
              "    </div>\n",
              "  </div>\n",
              "  "
            ]
          },
          "metadata": {},
          "execution_count": 5
        }
      ]
    },
    {
      "cell_type": "code",
      "source": [
        "df.isnull().sum()"
      ],
      "metadata": {
        "colab": {
          "base_uri": "https://localhost:8080/"
        },
        "id": "mgKpkmmV8w-j",
        "outputId": "3b1330f3-8f5d-4ecd-c1ed-9c4290ad9f96"
      },
      "execution_count": null,
      "outputs": [
        {
          "output_type": "execute_result",
          "data": {
            "text/plain": [
              "name         0\n",
              "singer       0\n",
              "singer_id    0\n",
              "duration     0\n",
              "link         0\n",
              "language     0\n",
              "dtype: int64"
            ]
          },
          "metadata": {},
          "execution_count": 8
        }
      ]
    },
    {
      "cell_type": "markdown",
      "source": [
        "### 2.Data Preprocess\n",
        "###### 2.1) Dealing with duration "
      ],
      "metadata": {
        "id": "-O4862cl9On9"
      }
    },
    {
      "cell_type": "code",
      "source": [
        "duration_list=[]\n",
        "\n",
        "'''for duration in df['duration']:\n",
        "  m = int(duration.split(':')[0])\n",
        "  s = int(duration.split(':')[1])\n",
        "  sec=(m*60)+s\n",
        "  duration_list.append(sec)'''\n",
        "\n",
        "#df['duration'] = duration_list\n",
        "df.head()"
      ],
      "metadata": {
        "colab": {
          "base_uri": "https://localhost:8080/",
          "height": 206
        },
        "id": "od_W0Yws9U82",
        "outputId": "edf1dd8e-77e3-42c9-9c27-3295d22d7aef"
      },
      "execution_count": null,
      "outputs": [
        {
          "output_type": "execute_result",
          "data": {
            "text/plain": [
              "                                      name                     singer  \\\n",
              "0                    Dil - E - Nadan Tujhe  Chitra Singh|Jagjit Singh   \n",
              "1        Agar Hum Kahen Aur Woh Muskara De  Chitra Singh|Jagjit Singh   \n",
              "2                            Unke Dekhe Se               Jagjit Singh   \n",
              "3  Yeh Na Thi Hamari Qismat - Chitra Singh               Chitra Singh   \n",
              "4                  Hazaron Khwahishen Aisi               Jagjit Singh   \n",
              "\n",
              "                                      singer_id  duration  \\\n",
              "0  /artist/chitra-singh|/artist/jagjeet-singh-1       300   \n",
              "1  /artist/chitra-singh|/artist/jagjeet-singh-1       386   \n",
              "2                       /artist/jagjeet-singh-1       221   \n",
              "3                          /artist/chitra-singh       266   \n",
              "4                       /artist/jagjeet-singh-1       339   \n",
              "\n",
              "                                  link language  \n",
              "0                 /dil-e-nadan-tujhe-3     Urdu  \n",
              "1  /agar-hum-kahen-aur-woh-muskura-den     Urdu  \n",
              "2                       /unke-dekhe-se     Urdu  \n",
              "3          /yeh-na-thi-hamari-qismat-2     Urdu  \n",
              "4           /hazaron-khwahishen-aisi-1     Urdu  "
            ],
            "text/html": [
              "\n",
              "  <div id=\"df-b12ddec5-74bb-41cb-996f-eb4964c521b9\">\n",
              "    <div class=\"colab-df-container\">\n",
              "      <div>\n",
              "<style scoped>\n",
              "    .dataframe tbody tr th:only-of-type {\n",
              "        vertical-align: middle;\n",
              "    }\n",
              "\n",
              "    .dataframe tbody tr th {\n",
              "        vertical-align: top;\n",
              "    }\n",
              "\n",
              "    .dataframe thead th {\n",
              "        text-align: right;\n",
              "    }\n",
              "</style>\n",
              "<table border=\"1\" class=\"dataframe\">\n",
              "  <thead>\n",
              "    <tr style=\"text-align: right;\">\n",
              "      <th></th>\n",
              "      <th>name</th>\n",
              "      <th>singer</th>\n",
              "      <th>singer_id</th>\n",
              "      <th>duration</th>\n",
              "      <th>link</th>\n",
              "      <th>language</th>\n",
              "    </tr>\n",
              "  </thead>\n",
              "  <tbody>\n",
              "    <tr>\n",
              "      <th>0</th>\n",
              "      <td>Dil - E - Nadan Tujhe</td>\n",
              "      <td>Chitra Singh|Jagjit Singh</td>\n",
              "      <td>/artist/chitra-singh|/artist/jagjeet-singh-1</td>\n",
              "      <td>300</td>\n",
              "      <td>/dil-e-nadan-tujhe-3</td>\n",
              "      <td>Urdu</td>\n",
              "    </tr>\n",
              "    <tr>\n",
              "      <th>1</th>\n",
              "      <td>Agar Hum Kahen Aur Woh Muskara De</td>\n",
              "      <td>Chitra Singh|Jagjit Singh</td>\n",
              "      <td>/artist/chitra-singh|/artist/jagjeet-singh-1</td>\n",
              "      <td>386</td>\n",
              "      <td>/agar-hum-kahen-aur-woh-muskura-den</td>\n",
              "      <td>Urdu</td>\n",
              "    </tr>\n",
              "    <tr>\n",
              "      <th>2</th>\n",
              "      <td>Unke Dekhe Se</td>\n",
              "      <td>Jagjit Singh</td>\n",
              "      <td>/artist/jagjeet-singh-1</td>\n",
              "      <td>221</td>\n",
              "      <td>/unke-dekhe-se</td>\n",
              "      <td>Urdu</td>\n",
              "    </tr>\n",
              "    <tr>\n",
              "      <th>3</th>\n",
              "      <td>Yeh Na Thi Hamari Qismat - Chitra Singh</td>\n",
              "      <td>Chitra Singh</td>\n",
              "      <td>/artist/chitra-singh</td>\n",
              "      <td>266</td>\n",
              "      <td>/yeh-na-thi-hamari-qismat-2</td>\n",
              "      <td>Urdu</td>\n",
              "    </tr>\n",
              "    <tr>\n",
              "      <th>4</th>\n",
              "      <td>Hazaron Khwahishen Aisi</td>\n",
              "      <td>Jagjit Singh</td>\n",
              "      <td>/artist/jagjeet-singh-1</td>\n",
              "      <td>339</td>\n",
              "      <td>/hazaron-khwahishen-aisi-1</td>\n",
              "      <td>Urdu</td>\n",
              "    </tr>\n",
              "  </tbody>\n",
              "</table>\n",
              "</div>\n",
              "      <button class=\"colab-df-convert\" onclick=\"convertToInteractive('df-b12ddec5-74bb-41cb-996f-eb4964c521b9')\"\n",
              "              title=\"Convert this dataframe to an interactive table.\"\n",
              "              style=\"display:none;\">\n",
              "        \n",
              "  <svg xmlns=\"http://www.w3.org/2000/svg\" height=\"24px\"viewBox=\"0 0 24 24\"\n",
              "       width=\"24px\">\n",
              "    <path d=\"M0 0h24v24H0V0z\" fill=\"none\"/>\n",
              "    <path d=\"M18.56 5.44l.94 2.06.94-2.06 2.06-.94-2.06-.94-.94-2.06-.94 2.06-2.06.94zm-11 1L8.5 8.5l.94-2.06 2.06-.94-2.06-.94L8.5 2.5l-.94 2.06-2.06.94zm10 10l.94 2.06.94-2.06 2.06-.94-2.06-.94-.94-2.06-.94 2.06-2.06.94z\"/><path d=\"M17.41 7.96l-1.37-1.37c-.4-.4-.92-.59-1.43-.59-.52 0-1.04.2-1.43.59L10.3 9.45l-7.72 7.72c-.78.78-.78 2.05 0 2.83L4 21.41c.39.39.9.59 1.41.59.51 0 1.02-.2 1.41-.59l7.78-7.78 2.81-2.81c.8-.78.8-2.07 0-2.86zM5.41 20L4 18.59l7.72-7.72 1.47 1.35L5.41 20z\"/>\n",
              "  </svg>\n",
              "      </button>\n",
              "      \n",
              "  <style>\n",
              "    .colab-df-container {\n",
              "      display:flex;\n",
              "      flex-wrap:wrap;\n",
              "      gap: 12px;\n",
              "    }\n",
              "\n",
              "    .colab-df-convert {\n",
              "      background-color: #E8F0FE;\n",
              "      border: none;\n",
              "      border-radius: 50%;\n",
              "      cursor: pointer;\n",
              "      display: none;\n",
              "      fill: #1967D2;\n",
              "      height: 32px;\n",
              "      padding: 0 0 0 0;\n",
              "      width: 32px;\n",
              "    }\n",
              "\n",
              "    .colab-df-convert:hover {\n",
              "      background-color: #E2EBFA;\n",
              "      box-shadow: 0px 1px 2px rgba(60, 64, 67, 0.3), 0px 1px 3px 1px rgba(60, 64, 67, 0.15);\n",
              "      fill: #174EA6;\n",
              "    }\n",
              "\n",
              "    [theme=dark] .colab-df-convert {\n",
              "      background-color: #3B4455;\n",
              "      fill: #D2E3FC;\n",
              "    }\n",
              "\n",
              "    [theme=dark] .colab-df-convert:hover {\n",
              "      background-color: #434B5C;\n",
              "      box-shadow: 0px 1px 3px 1px rgba(0, 0, 0, 0.15);\n",
              "      filter: drop-shadow(0px 1px 2px rgba(0, 0, 0, 0.3));\n",
              "      fill: #FFFFFF;\n",
              "    }\n",
              "  </style>\n",
              "\n",
              "      <script>\n",
              "        const buttonEl =\n",
              "          document.querySelector('#df-b12ddec5-74bb-41cb-996f-eb4964c521b9 button.colab-df-convert');\n",
              "        buttonEl.style.display =\n",
              "          google.colab.kernel.accessAllowed ? 'block' : 'none';\n",
              "\n",
              "        async function convertToInteractive(key) {\n",
              "          const element = document.querySelector('#df-b12ddec5-74bb-41cb-996f-eb4964c521b9');\n",
              "          const dataTable =\n",
              "            await google.colab.kernel.invokeFunction('convertToInteractive',\n",
              "                                                     [key], {});\n",
              "          if (!dataTable) return;\n",
              "\n",
              "          const docLinkHtml = 'Like what you see? Visit the ' +\n",
              "            '<a target=\"_blank\" href=https://colab.research.google.com/notebooks/data_table.ipynb>data table notebook</a>'\n",
              "            + ' to learn more about interactive tables.';\n",
              "          element.innerHTML = '';\n",
              "          dataTable['output_type'] = 'display_data';\n",
              "          await google.colab.output.renderOutput(dataTable, element);\n",
              "          const docLink = document.createElement('div');\n",
              "          docLink.innerHTML = docLinkHtml;\n",
              "          element.appendChild(docLink);\n",
              "        }\n",
              "      </script>\n",
              "    </div>\n",
              "  </div>\n",
              "  "
            ]
          },
          "metadata": {},
          "execution_count": 33
        }
      ]
    },
    {
      "cell_type": "markdown",
      "source": [
        "### 3. Data Analysis\n",
        "##### 3.1) Average duration of song"
      ],
      "metadata": {
        "id": "mwcYZ4MKEXSd"
      }
    },
    {
      "cell_type": "code",
      "source": [
        "print(\"Avarage Duration of Songs is \", int(df['duration'].sum()/len(df['duration'])), \"Seconds\")\n",
        "#df['duration'].mean()"
      ],
      "metadata": {
        "colab": {
          "base_uri": "https://localhost:8080/"
        },
        "id": "7QlePMsGEm0l",
        "outputId": "f401e055-99e4-4579-ae67-d29e181af7b3"
      },
      "execution_count": null,
      "outputs": [
        {
          "output_type": "stream",
          "name": "stdout",
          "text": [
            "Avarage Duration of Songs is  295 Seconds\n"
          ]
        }
      ]
    },
    {
      "cell_type": "markdown",
      "source": [
        "##### 3.2) How Many Language are ther in the data set"
      ],
      "metadata": {
        "id": "a8ROjvKdF-EQ"
      }
    },
    {
      "cell_type": "code",
      "source": [
        "df['language'].unique()\n",
        "df['language'].nunique()\n",
        "len(set(df['language']))"
      ],
      "metadata": {
        "colab": {
          "base_uri": "https://localhost:8080/"
        },
        "id": "i9HQl6oVGJiQ",
        "outputId": "42794b30-6317-4295-828a-78c654806380"
      },
      "execution_count": null,
      "outputs": [
        {
          "output_type": "execute_result",
          "data": {
            "text/plain": [
              "16"
            ]
          },
          "metadata": {},
          "execution_count": 51
        }
      ]
    },
    {
      "cell_type": "markdown",
      "source": [
        "#### 3.3) How many language are there in dataset"
      ],
      "metadata": {
        "id": "vCZUx9-DIHtl"
      }
    },
    {
      "cell_type": "code",
      "source": [
        "for i in set(df['language']):\n",
        "  print(i)"
      ],
      "metadata": {
        "colab": {
          "base_uri": "https://localhost:8080/"
        },
        "id": "uMo3RCByIQZx",
        "outputId": "2e76da50-d8d1-459a-ce3a-4f514b7e08d6"
      },
      "execution_count": null,
      "outputs": [
        {
          "output_type": "stream",
          "name": "stdout",
          "text": [
            "Tamil\n",
            "Marathi\n",
            "Bhojpuri\n",
            "Malayalam\n",
            "Telugu\n",
            "Assamese\n",
            "Punjabi\n",
            "Hindi\n",
            "Gujarati\n",
            "Haryanvi\n",
            "Rajasthani\n",
            "Old\n",
            "Odia\n",
            "Kannada\n",
            "Bengali\n",
            "Urdu\n"
          ]
        }
      ]
    },
    {
      "cell_type": "markdown",
      "source": [
        "##### 3.4) How many punjabi songs are there in dataset"
      ],
      "metadata": {
        "id": "PWWo1lYFKQfy"
      }
    },
    {
      "cell_type": "code",
      "source": [
        "sum =0\n",
        "for i in df['language']:\n",
        "  if(i == 'Punjabi'):\n",
        "    sum+=1\n",
        "print(\"there are \",sum,\"punjabi songs\")    \n",
        "\n",
        "df[df['language'] == 'Punjabi']\n",
        "len(df[df['language'] == 'Punjabi'])"
      ],
      "metadata": {
        "colab": {
          "base_uri": "https://localhost:8080/"
        },
        "id": "hL9bvjoaKaz0",
        "outputId": "9ada3dc6-7fce-4fbd-9977-2f18d98589dd"
      },
      "execution_count": null,
      "outputs": [
        {
          "output_type": "stream",
          "name": "stdout",
          "text": [
            "there are  3818 punjabi songs\n"
          ]
        },
        {
          "output_type": "execute_result",
          "data": {
            "text/plain": [
              "3818"
            ]
          },
          "metadata": {},
          "execution_count": 61
        }
      ]
    },
    {
      "cell_type": "markdown",
      "source": [
        "##### 3.5) Number of song in each langauge"
      ],
      "metadata": {
        "id": "-8_ogthYMi08"
      }
    },
    {
      "cell_type": "code",
      "source": [
        "for lang in df['language'].unique():\n",
        "\n",
        "  sum =0\n",
        "  for i in df['language']:\n",
        "    if(i == lang):\n",
        "      sum+=1\n",
        "  print(lang, sum)\n",
        "  print(lang, len(df[df['language'] == lang]))"
      ],
      "metadata": {
        "colab": {
          "base_uri": "https://localhost:8080/"
        },
        "id": "Lw6Gol-_MqsK",
        "outputId": "5c2dc582-cefd-470e-e410-2193fc136167"
      },
      "execution_count": null,
      "outputs": [
        {
          "output_type": "stream",
          "name": "stdout",
          "text": [
            "Urdu 3116\n",
            "Urdu 3116\n",
            "Gujarati 2115\n",
            "Gujarati 2115\n",
            "Tamil 4677\n",
            "Tamil 4677\n",
            "Kannada 3559\n",
            "Kannada 3559\n",
            "Rajasthani 541\n",
            "Rajasthani 541\n",
            "Haryanvi 228\n",
            "Haryanvi 228\n",
            "Punjabi 3818\n",
            "Punjabi 3818\n",
            "Hindi 4993\n",
            "Hindi 4993\n",
            "Old 4993\n",
            "Old 4993\n",
            "Malayalam 479\n",
            "Malayalam 479\n",
            "Marathi 4699\n",
            "Marathi 4699\n",
            "Telugu 4996\n",
            "Telugu 4996\n",
            "Odia 940\n",
            "Odia 940\n",
            "Bhojpuri 519\n",
            "Bhojpuri 519\n",
            "Assamese 724\n",
            "Assamese 724\n",
            "Bengali 958\n",
            "Bengali 958\n"
          ]
        }
      ]
    },
    {
      "cell_type": "markdown",
      "source": [
        "##### 3.6)Average duration of song in each languge"
      ],
      "metadata": {
        "id": "oU-aG3iCOWdX"
      }
    },
    {
      "cell_type": "code",
      "source": [
        "for lang in df['language'].unique():\n",
        "  print(lang, int(df[df['language'] == lang].mean()))"
      ],
      "metadata": {
        "colab": {
          "base_uri": "https://localhost:8080/"
        },
        "id": "vjB0DiP9OhcB",
        "outputId": "f082bb63-ffec-4ae8-cdde-1fbb8a93a834"
      },
      "execution_count": null,
      "outputs": [
        {
          "output_type": "stream",
          "name": "stderr",
          "text": [
            "/usr/local/lib/python3.7/dist-packages/ipykernel_launcher.py:2: FutureWarning: Dropping of nuisance columns in DataFrame reductions (with 'numeric_only=None') is deprecated; in a future version this will raise TypeError.  Select only valid columns before calling the reduction.\n",
            "  \n"
          ]
        },
        {
          "output_type": "stream",
          "name": "stdout",
          "text": [
            "Urdu 407\n",
            "Gujarati 271\n",
            "Tamil 270\n",
            "Kannada 250\n",
            "Rajasthani 291\n",
            "Haryanvi 320\n",
            "Punjabi 324\n",
            "Hindi 307\n",
            "Old 307\n",
            "Malayalam 242\n",
            "Marathi 281\n",
            "Telugu 279\n",
            "Odia 257\n",
            "Bhojpuri 357\n",
            "Assamese 228\n",
            "Bengali 255\n"
          ]
        }
      ]
    },
    {
      "cell_type": "markdown",
      "source": [
        "##### 3.7) How many Singers in dataset"
      ],
      "metadata": {
        "id": "KMenYnVfQP6j"
      }
    },
    {
      "cell_type": "code",
      "source": [
        "All_dataset = []\n",
        "for singers in df['singer']:\n",
        "  All_dataset += singers.split('|')\n",
        "len(set(All_dataset))"
      ],
      "metadata": {
        "id": "G8TJG02wQWeC"
      },
      "execution_count": null,
      "outputs": []
    },
    {
      "cell_type": "markdown",
      "source": [
        "##### 3.8) How many singer sang most of the song"
      ],
      "metadata": {
        "id": "8Jtu351sR-t-"
      }
    },
    {
      "cell_type": "code",
      "source": [
        "\n",
        "unique_singer = list(set(All_dataset))\n",
        "\n",
        "data_singers = []\n",
        "for i in tqdm(unique_singer):\n",
        "  c=0\n",
        "  for singer_ in df['singer']:\n",
        "    if(i in singer_):\n",
        "      c+=1\n",
        "  data_singers.append([i, c])\n"
      ],
      "metadata": {
        "id": "BF3_iuhtSHZO"
      },
      "execution_count": null,
      "outputs": []
    },
    {
      "cell_type": "code",
      "source": [
        "songs = pd.DataFrame(data_singers,All_dataset = ['singer','songs'])"
      ],
      "metadata": {
        "id": "vG87sHyMVrtf"
      },
      "execution_count": null,
      "outputs": []
    }
  ]
}